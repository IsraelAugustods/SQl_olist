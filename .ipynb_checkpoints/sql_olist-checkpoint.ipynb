version https://git-lfs.github.com/spec/v1
oid sha256:5639c6eca9154a729ab76c4883e13805d81c45072989697eb358fcbd10fa116e
size 22770
